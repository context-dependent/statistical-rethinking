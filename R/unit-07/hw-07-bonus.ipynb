{
 "cells": [
  {
   "cell_type": "code",
   "execution_count": 3,
   "metadata": {},
   "outputs": [
    {
     "name": "stdout",
     "output_type": "stream",
     "text": [
      "Woman(district=4, age=0, kids=0, safe=0, urban=0)\n"
     ]
    }
   ],
   "source": [
    "import numpy as np\n",
    "\n",
    "def r(n):\n",
    "    return [np.random.random() for i in range(n)]\n",
    "\n",
    "\n",
    "class Woman(object):\n",
    "    def __init__(self, district):\n",
    "        self.district = district\n",
    "        self.age = 0\n",
    "        self.kids = 0\n",
    "        self.safe = 0\n",
    "        self.urban = 0\n",
    "    \n",
    "    def pass_year(self, p_safe, p_birth, p_death):\n",
    "        self.age += 1\n",
    "        self.safe, birth, self.death = r(3) < [p_safe, p_birth, p_death]\n",
    "        if birth: \n",
    "            self.kids += 1\n",
    "        if birth and r(1) <= .5: \n",
    "            return Woman(self.district)\n",
    "        else:\n",
    "            return None\n",
    "\n",
    "    def __repr__(self):\n",
    "        return f\"Woman(district={self.district}, age={self.age}, kids={self.kids}, safe={self.safe}, urban={self.urban})\"\n",
    "\n",
    "\n",
    "class Bangladesh(object):\n",
    "    "
   ]
  },
  {
   "cell_type": "code",
   "execution_count": null,
   "metadata": {},
   "outputs": [],
   "source": []
  }
 ],
 "metadata": {
  "kernelspec": {
   "display_name": "Python 3",
   "language": "python",
   "name": "python3"
  },
  "language_info": {
   "codemirror_mode": {
    "name": "ipython",
    "version": 3
   },
   "file_extension": ".py",
   "mimetype": "text/x-python",
   "name": "python",
   "nbconvert_exporter": "python",
   "pygments_lexer": "ipython3",
   "version": "3.11.0"
  }
 },
 "nbformat": 4,
 "nbformat_minor": 2
}
